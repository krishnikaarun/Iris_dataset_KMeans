{
 "cells": [
  {
   "cell_type": "code",
   "execution_count": 95,
   "id": "459deb1c",
   "metadata": {},
   "outputs": [],
   "source": [
    "# Importing libraries\n",
    "import pandas as pd\n",
    "import matplotlib.pyplot as plt\n",
    "from sklearn.cluster import KMeans\n",
    "from sklearn.preprocessing import scale\n",
    "from sklearn import datasets\n",
    "from scipy.spatial.distance import cdist\n",
    "import numpy as np"
   ]
  },
  {
   "cell_type": "code",
   "execution_count": 96,
   "id": "622be3e4",
   "metadata": {},
   "outputs": [
    {
     "data": {
      "text/plain": [
       "['sepal length (cm)',\n",
       " 'sepal width (cm)',\n",
       " 'petal length (cm)',\n",
       " 'petal width (cm)']"
      ]
     },
     "execution_count": 96,
     "metadata": {},
     "output_type": "execute_result"
    }
   ],
   "source": [
    "# Loading Dataset and describing the dataset\n",
    "iris = datasets.load_iris()\n",
    "iris.data.shape\n",
    "iris.feature_names"
   ]
  },
  {
   "cell_type": "code",
   "execution_count": 128,
   "id": "88668955",
   "metadata": {},
   "outputs": [
    {
     "data": {
      "text/plain": [
       "array([0, 0, 0, 0, 0, 0, 0, 0, 0, 0, 0, 0, 0, 0, 0, 0, 0, 0, 0, 0, 0, 0,\n",
       "       0, 0, 0, 0, 0, 0, 0, 0, 0, 0, 0, 0, 0, 0, 0, 0, 0, 0, 0, 0, 0, 0,\n",
       "       0, 0, 0, 0, 0, 0, 1, 1, 1, 1, 1, 1, 1, 1, 1, 1, 1, 1, 1, 1, 1, 1,\n",
       "       1, 1, 1, 1, 1, 1, 1, 1, 1, 1, 1, 1, 1, 1, 1, 1, 1, 1, 1, 1, 1, 1,\n",
       "       1, 1, 1, 1, 1, 1, 1, 1, 1, 1, 1, 1, 2, 2, 2, 2, 2, 2, 2, 2, 2, 2,\n",
       "       2, 2, 2, 2, 2, 2, 2, 2, 2, 2, 2, 2, 2, 2, 2, 2, 2, 2, 2, 2, 2, 2,\n",
       "       2, 2, 2, 2, 2, 2, 2, 2, 2, 2, 2, 2, 2, 2, 2, 2, 2, 2])"
      ]
     },
     "execution_count": 128,
     "metadata": {},
     "output_type": "execute_result"
    }
   ],
   "source": [
    "# As Iris Dataset is taken from the dataset it already has the target variable - We are trying to acheive the same\n",
    "iris.target"
   ]
  },
  {
   "cell_type": "code",
   "execution_count": 99,
   "id": "2d1dfbe1",
   "metadata": {},
   "outputs": [],
   "source": [
    "#  To perform KMeans first we need to know the total number of cluster, we are using Elbow Technique\n",
    "\n",
    "# Creating an empty list\n",
    "disortions = []\n",
    "\n",
    "# We are going to perform the operation from 1 - 10 in a loop and take the desired value from the elbow Technique\n",
    "\n",
    "# Taking range from 1 - 10\n",
    "K = range(1,10)"
   ]
  },
  {
   "cell_type": "code",
   "execution_count": 100,
   "id": "01480726",
   "metadata": {},
   "outputs": [],
   "source": [
    "# Creating a new Data Frame from the loaded Iris Dataset and changing the labels\n",
    "iris_df = pd.DataFrame(iris.data)\n",
    "iris_df.columns = ['sepal_length','sepal_width','petal_length','petal_width']"
   ]
  },
  {
   "cell_type": "code",
   "execution_count": 102,
   "id": "aa113ecb",
   "metadata": {},
   "outputs": [],
   "source": [
    "# Assining the values to X variable and converting into an array\n",
    "X = iris_df.loc[:,['petal_length','petal_width']]\n",
    "X = np.array(X)"
   ]
  },
  {
   "cell_type": "code",
   "execution_count": 103,
   "id": "1403e406",
   "metadata": {},
   "outputs": [
    {
     "name": "stderr",
     "output_type": "stream",
     "text": [
      "C:\\Users\\krish\\anaconda3\\lib\\site-packages\\sklearn\\cluster\\_kmeans.py:1036: UserWarning: KMeans is known to have a memory leak on Windows with MKL, when there are less chunks than available threads. You can avoid it by setting the environment variable OMP_NUM_THREADS=1.\n",
      "  warnings.warn(\n"
     ]
    }
   ],
   "source": [
    "# Performing the operation in a loop so that it take the disortions using all the values from the Range \n",
    "\n",
    "for i in K:\n",
    "    kmeans_model = KMeans(n_clusters = i)\n",
    "    kmeans_model.fit(X)\n",
    "    disortions.append(sum(np.min(cdist(X,kmeans_model.cluster_centers_, 'euclidean'),axis = 1))/X.shape[0])"
   ]
  },
  {
   "cell_type": "code",
   "execution_count": 104,
   "id": "cda6f08f",
   "metadata": {},
   "outputs": [
    {
     "data": {
      "text/plain": [
       "[1.707364436891335,\n",
       " 0.583920126422277,\n",
       " 0.36876646966749166,\n",
       " 0.2992242581050885,\n",
       " 0.26508349289751987,\n",
       " 0.23283408287736876,\n",
       " 0.21179831353411918,\n",
       " 0.19858135818338693,\n",
       " 0.18410484384588674]"
      ]
     },
     "execution_count": 104,
     "metadata": {},
     "output_type": "execute_result"
    }
   ],
   "source": [
    "disortions"
   ]
  },
  {
   "cell_type": "code",
   "execution_count": 105,
   "id": "de24a8ce",
   "metadata": {},
   "outputs": [
    {
     "data": {
      "text/plain": [
       "[<matplotlib.lines.Line2D at 0x28cbe1325b0>]"
      ]
     },
     "execution_count": 105,
     "metadata": {},
     "output_type": "execute_result"
    },
    {
     "data": {
      "image/png": "[encoded data removed]",
      "text/plain": [
       "<Figure size 432x288 with 1 Axes>"
      ]
     },
     "metadata": {
      "needs_background": "light"
     },
     "output_type": "display_data"
    }
   ],
   "source": [
    "# Plotting all the values of disortions\n",
    "plt.plot(K,disortions,'bx-')"
   ]
  },
  {
   "cell_type": "markdown",
   "id": "23f13b2d",
   "metadata": {},
   "source": [
    "Clearly from the plot K = 3, from the elbow technique"
   ]
  },
  {
   "cell_type": "code",
   "execution_count": 106,
   "id": "73b42377",
   "metadata": {},
   "outputs": [
    {
     "data": {
      "text/plain": [
       "array([1, 1, 1, 1, 1, 1, 1, 1, 1, 1, 1, 1, 1, 1, 1, 1, 1, 1, 1, 1, 1, 1,\n",
       "       1, 1, 1, 1, 1, 1, 1, 1, 1, 1, 1, 1, 1, 1, 1, 1, 1, 1, 1, 1, 1, 1,\n",
       "       1, 1, 1, 1, 1, 1, 2, 2, 2, 0, 0, 0, 2, 0, 0, 0, 0, 0, 0, 0, 0, 2,\n",
       "       0, 0, 0, 0, 2, 0, 0, 0, 0, 2, 2, 2, 0, 0, 0, 0, 0, 0, 0, 2, 2, 0,\n",
       "       0, 0, 0, 0, 0, 0, 0, 0, 0, 0, 0, 0, 2, 0, 2, 2, 2, 2, 0, 2, 2, 2,\n",
       "       2, 2, 2, 0, 0, 2, 2, 2, 2, 0, 2, 0, 2, 0, 2, 2, 0, 2, 2, 2, 2, 2,\n",
       "       2, 0, 0, 2, 2, 2, 0, 2, 2, 2, 0, 2, 2, 2, 0, 2, 2, 0])"
      ]
     },
     "execution_count": 106,
     "metadata": {},
     "output_type": "execute_result"
    }
   ],
   "source": [
    "# As we now know the number of cluster, we are creating and fitting the model with the Number of cluster and random state\n",
    "clustering = KMeans(n_clusters=3,random_state=1)\n",
    "clustering.fit(x)\n",
    "# After using the KMeans Clusting we have Target variable\n",
    "clustering.labels_"
   ]
  },
  {
   "cell_type": "code",
   "execution_count": 132,
   "id": "ec0f5b35",
   "metadata": {},
   "outputs": [
    {
     "data": {
      "text/plain": [
       "<matplotlib.collections.PathCollection at 0x28cbe40d460>"
      ]
     },
     "execution_count": 132,
     "metadata": {},
     "output_type": "execute_result"
    },
    {
     "data": {
      "image/png": "[encoded data removed]",
      "text/plain": [
       "<Figure size 432x288 with 1 Axes>"
      ]
     },
     "metadata": {
      "needs_background": "light"
     },
     "output_type": "display_data"
    }
   ],
   "source": [
    "# Ploting the preticted values from the KMeans clustering technique\n",
    "color2 = np.array(['Green','Red','Blue'])\n",
    "plt.scatter(x = iris_df.petal_length,y = iris_df.petal_width, c=color2[clustering.labels_])"
   ]
  },
  {
   "cell_type": "code",
   "execution_count": 133,
   "id": "858aa472",
   "metadata": {},
   "outputs": [
    {
     "data": {
      "text/plain": [
       "<matplotlib.collections.PathCollection at 0x28cbe46bac0>"
      ]
     },
     "execution_count": 133,
     "metadata": {},
     "output_type": "execute_result"
    },
    {
     "data": {
      "image/png": "[encoded data removed]",
      "text/plain": [
       "<Figure size 432x288 with 1 Axes>"
      ]
     },
     "metadata": {
      "needs_background": "light"
     },
     "output_type": "display_data"
    }
   ],
   "source": [
    "# Ploting the actual target from the Iris Dataset\n",
    "color = np.array(['Red','Green','Blue'])\n",
    "plt.scatter(x = iris_df.petal_length,y = iris_df.petal_width, c=color[iris.target])"
   ]
  }
 ],
 "metadata": {
  "kernelspec": {
   "display_name": "Python 3 (ipykernel)",
   "language": "python",
   "name": "python3"
  },
  "language_info": {
   "codemirror_mode": {
    "name": "ipython",
    "version": 3
   },
   "file_extension": ".py",
   "mimetype": "text/x-python",
   "name": "python",
   "nbconvert_exporter": "python",
   "pygments_lexer": "ipython3",
   "version": "3.9.12"
  }
 },
 "nbformat": 4,
 "nbformat_minor": 5
}
